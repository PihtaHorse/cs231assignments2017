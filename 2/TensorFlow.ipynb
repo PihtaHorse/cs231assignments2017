{
 "cells": [
  {
   "cell_type": "markdown",
   "metadata": {},
   "source": [
    "## What's this TensorFlow business?\n",
    "\n",
    "You've written a lot of code in this assignment to provide a whole host of neural network functionality. Dropout, Batch Norm, and 2D convolutions are some of the workhorses of deep learning in computer vision. You've also worked hard to make your code efficient and vectorized.\n",
    "\n",
    "For the last part of this assignment, though, we're going to leave behind your beautiful codebase and instead migrate to one of two popular deep learning frameworks: in this instance, TensorFlow (or PyTorch, if you switch over to that notebook)\n",
    "\n",
    "#### What is it?\n",
    "TensorFlow is a system for executing computational graphs over Tensor objects, with native support for performing backpropogation for its Variables. In it, we work with Tensors which are n-dimensional arrays analogous to the numpy ndarray.\n",
    "\n",
    "#### Why?\n",
    "\n",
    "* Our code will now run on GPUs! Much faster training. Writing your own modules to run on GPUs is beyond the scope of this class, unfortunately.\n",
    "* We want you to be ready to use one of these frameworks for your project so you can experiment more efficiently than if you were writing every feature you want to use by hand. \n",
    "* We want you to stand on the shoulders of giants! TensorFlow and PyTorch are both excellent frameworks that will make your lives a lot easier, and now that you understand their guts, you are free to use them :) \n",
    "* We want you to be exposed to the sort of deep learning code you might run into in academia or industry. "
   ]
  },
  {
   "cell_type": "markdown",
   "metadata": {},
   "source": [
    "## How will I learn TensorFlow?\n",
    "\n",
    "TensorFlow has many excellent tutorials available, including those from [Google themselves](https://www.tensorflow.org/get_started/get_started).\n",
    "\n",
    "Otherwise, this notebook will walk you through much of what you need to do to train models in TensorFlow. See the end of the notebook for some links to helpful tutorials if you want to learn more or need further clarification on topics that aren't fully explained here."
   ]
  },
  {
   "cell_type": "markdown",
   "metadata": {},
   "source": [
    "## Load Datasets\n"
   ]
  },
  {
   "cell_type": "code",
   "execution_count": 1,
   "metadata": {},
   "outputs": [],
   "source": [
    "import tensorflow as tf\n",
    "import numpy as np\n",
    "import math\n",
    "import timeit\n",
    "import matplotlib.pyplot as plt\n",
    "%matplotlib inline"
   ]
  },
  {
   "cell_type": "code",
   "execution_count": 2,
   "metadata": {},
   "outputs": [
    {
     "name": "stdout",
     "output_type": "stream",
     "text": [
      "Train data shape:  (49000, 32, 32, 3)\n",
      "Train labels shape:  (49000,)\n",
      "Validation data shape:  (1000, 32, 32, 3)\n",
      "Validation labels shape:  (1000,)\n",
      "Test data shape:  (10000, 32, 32, 3)\n",
      "Test labels shape:  (10000,)\n"
     ]
    }
   ],
   "source": [
    "from cs231n.data_utils import load_CIFAR10\n",
    "\n",
    "def get_CIFAR10_data(num_training=49000, num_validation=1000, num_test=10000):\n",
    "    \"\"\"\n",
    "    Load the CIFAR-10 dataset from disk and perform preprocessing to prepare\n",
    "    it for the two-layer neural net classifier. These are the same steps as\n",
    "    we used for the SVM, but condensed to a single function.  \n",
    "    \"\"\"\n",
    "    # Load the raw CIFAR-10 data\n",
    "    cifar10_dir = 'cs231n/datasets/cifar-10-batches-py'\n",
    "    X_train, y_train, X_test, y_test = load_CIFAR10(cifar10_dir)\n",
    "\n",
    "    # Subsample the data\n",
    "    mask = range(num_training, num_training + num_validation)\n",
    "    X_val = X_train[mask]\n",
    "    y_val = y_train[mask]\n",
    "    mask = range(num_training)\n",
    "    X_train = X_train[mask]\n",
    "    y_train = y_train[mask]\n",
    "    mask = range(num_test)\n",
    "    X_test = X_test[mask]\n",
    "    y_test = y_test[mask]\n",
    "\n",
    "    # Normalize the data: subtract the mean image\n",
    "    mean_image = np.mean(X_train, axis=0)\n",
    "    X_train -= mean_image\n",
    "    X_val -= mean_image\n",
    "    X_test -= mean_image\n",
    "\n",
    "    return X_train, y_train, X_val, y_val, X_test, y_test\n",
    "\n",
    "\n",
    "# Invoke the above function to get our data.\n",
    "X_train, y_train, X_val, y_val, X_test, y_test = get_CIFAR10_data()\n",
    "print('Train data shape: ', X_train.shape)\n",
    "print('Train labels shape: ', y_train.shape)\n",
    "print('Validation data shape: ', X_val.shape)\n",
    "print('Validation labels shape: ', y_val.shape)\n",
    "print('Test data shape: ', X_test.shape)\n",
    "print('Test labels shape: ', y_test.shape)"
   ]
  },
  {
   "cell_type": "markdown",
   "metadata": {},
   "source": [
    "## Example Model\n",
    "\n",
    "### Some useful utilities\n",
    "\n",
    ". Remember that our image data is initially N x H x W x C, where:\n",
    "* N is the number of datapoints\n",
    "* H is the height of each image in pixels\n",
    "* W is the height of each image in pixels\n",
    "* C is the number of channels (usually 3: R, G, B)\n",
    "\n",
    "This is the right way to represent the data when we are doing something like a 2D convolution, which needs spatial understanding of where the pixels are relative to each other. When we input image data into fully connected affine layers, however, we want each data example to be represented by a single vector -- it's no longer useful to segregate the different channels, rows, and columns of the data."
   ]
  },
  {
   "cell_type": "markdown",
   "metadata": {},
   "source": [
    "### The example model itself\n",
    "\n",
    "The first step to training your own model is defining its architecture.\n",
    "\n",
    "Here's an example of a convolutional neural network defined in TensorFlow -- try to understand what each line is doing, remembering that each layer is composed upon the previous layer. We haven't trained anything yet - that'll come next - for now, we want you to understand how everything gets set up. \n",
    "\n",
    "In that example, you see 2D convolutional layers (Conv2d), ReLU activations, and fully-connected layers (Linear). You also see the Hinge loss function, and the Adam optimizer being used. \n",
    "\n",
    "Make sure you understand why the parameters of the Linear layer are 5408 and 10.\n",
    "\n",
    "### TensorFlow Details\n",
    "In TensorFlow, much like in our previous notebooks, we'll first specifically initialize our variables, and then our network model."
   ]
  },
  {
   "cell_type": "code",
   "execution_count": 3,
   "metadata": {},
   "outputs": [],
   "source": [
    "# clear old variables\n",
    "tf.reset_default_graph()\n",
    "\n",
    "# setup input (e.g. the data that changes every batch)\n",
    "# The first dim is None, and gets sets automatically based on batch size fed in\n",
    "X = tf.placeholder(tf.float32, [None, 32, 32, 3])\n",
    "y = tf.placeholder(tf.int64, [None])\n",
    "is_training = tf.placeholder(tf.bool)\n",
    "\n",
    "def simple_model(X,y):\n",
    "    # define our weights (e.g. init_two_layer_convnet)\n",
    "    \n",
    "    # setup variables\n",
    "    Wconv1 = tf.get_variable(\"Wconv1\", shape=[7, 7, 3, 32])\n",
    "    bconv1 = tf.get_variable(\"bconv1\", shape=[32])\n",
    "    W1 = tf.get_variable(\"W1\", shape=[5408, 10])\n",
    "    b1 = tf.get_variable(\"b1\", shape=[10])\n",
    "\n",
    "    # define our graph (e.g. two_layer_convnet)\n",
    "    a1 = tf.nn.conv2d(X, Wconv1, strides=[1,2,2,1], padding='VALID') + bconv1\n",
    "    h1 = tf.nn.relu(a1)\n",
    "    h1_flat = tf.reshape(h1,[-1,5408])\n",
    "    y_out = tf.matmul(h1_flat,W1) + b1\n",
    "    return y_out\n",
    "\n",
    "y_out = simple_model(X,y)\n",
    "\n",
    "# define our loss\n",
    "total_loss = tf.losses.hinge_loss(tf.one_hot(y,10),logits=y_out)\n",
    "mean_loss = tf.reduce_mean(total_loss)\n",
    "\n",
    "# define our optimizer\n",
    "optimizer = tf.train.AdamOptimizer(5e-4) # select optimizer and set learning rate\n",
    "train_step = optimizer.minimize(mean_loss)"
   ]
  },
  {
   "cell_type": "markdown",
   "metadata": {},
   "source": [
    "TensorFlow supports many other layer types, loss functions, and optimizers - you will experiment with these next. Here's the official API documentation for these (if any of the parameters used above were unclear, this resource will also be helpful). \n",
    "\n",
    "* Layers, Activations, Loss functions : https://www.tensorflow.org/api_guides/python/nn\n",
    "* Optimizers: https://www.tensorflow.org/api_guides/python/train#Optimizers\n",
    "* BatchNorm: https://www.tensorflow.org/api_docs/python/tf/layers/batch_normalization"
   ]
  },
  {
   "cell_type": "markdown",
   "metadata": {},
   "source": [
    "### Training the model on one epoch\n",
    "While we have defined a graph of operations above, in order to execute TensorFlow Graphs, by feeding them input data and computing the results, we first need to create a `tf.Session` object. A session encapsulates the control and state of the TensorFlow runtime. For more information, see the TensorFlow [Getting started](https://www.tensorflow.org/get_started/get_started) guide.\n",
    "\n",
    "Optionally we can also specify a device context such as `/cpu:0` or `/gpu:0`. For documentation on this behavior see [this TensorFlow guide](https://www.tensorflow.org/tutorials/using_gpu)\n",
    "\n",
    "You should see a validation loss of around 0.4 to 0.6 and an accuracy of 0.30 to 0.35 below"
   ]
  },
  {
   "cell_type": "code",
   "execution_count": 4,
   "metadata": {},
   "outputs": [
    {
     "name": "stdout",
     "output_type": "stream",
     "text": [
      "Training\n",
      "Iteration 0: with minibatch training loss = 11 and accuracy of 0.16\n",
      "Iteration 100: with minibatch training loss = 0.87 and accuracy of 0.33\n",
      "Iteration 200: with minibatch training loss = 0.744 and accuracy of 0.33\n",
      "Iteration 300: with minibatch training loss = 0.717 and accuracy of 0.28\n",
      "Iteration 400: with minibatch training loss = 0.575 and accuracy of 0.33\n",
      "Iteration 500: with minibatch training loss = 0.572 and accuracy of 0.34\n",
      "Iteration 600: with minibatch training loss = 0.467 and accuracy of 0.27\n",
      "Iteration 700: with minibatch training loss = 0.433 and accuracy of 0.42\n",
      "Epoch 1, Overall loss = 0.741 and accuracy of 0.309\n"
     ]
    },
    {
     "data": {
      "image/png": "[encoded data removed]",
      "text/plain": [
       "<matplotlib.figure.Figure at 0x7febc74b0d30>"
      ]
     },
     "metadata": {},
     "output_type": "display_data"
    },
    {
     "name": "stdout",
     "output_type": "stream",
     "text": [
      "Validation\n",
      "Epoch 1, Overall loss = 0.422 and accuracy of 0.366\n",
      "CPU times: user 4.28 s, sys: 2.44 s, total: 6.72 s\n",
      "Wall time: 7.1 s\n"
     ]
    }
   ],
   "source": [
    "%%time\n",
    "def run_model(session, predict, loss_val, Xd, yd,\n",
    "              epochs=1, batch_size=64, print_every=100,\n",
    "              training=None, plot_losses=False):\n",
    "    # have tensorflow compute accuracy\n",
    "    correct_prediction = tf.equal(tf.argmax(predict,1), y)\n",
    "    accuracy = tf.reduce_mean(tf.cast(correct_prediction, tf.float32))\n",
    "    \n",
    "    # shuffle indicies\n",
    "    train_indicies = np.arange(Xd.shape[0])\n",
    "    np.random.shuffle(train_indicies)\n",
    "\n",
    "    training_now = training is not None\n",
    "    \n",
    "    # setting up variables we want to compute (and optimizing)\n",
    "    # if we have a training function, add that to things we compute\n",
    "    variables = [mean_loss,correct_prediction,accuracy]\n",
    "    if training_now:\n",
    "        variables[-1] = training\n",
    "    \n",
    "    # counter \n",
    "    iter_cnt = 0\n",
    "    for e in range(epochs):\n",
    "        # keep track of losses and accuracy\n",
    "        correct = 0\n",
    "        losses = []\n",
    "        # make sure we iterate over the dataset once\n",
    "        for i in range(int(math.ceil(Xd.shape[0]/batch_size))):\n",
    "            # generate indicies for the batch\n",
    "            start_idx = (i*batch_size)%Xd.shape[0]\n",
    "            idx = train_indicies[start_idx:start_idx+batch_size]\n",
    "            \n",
    "            # create a feed dictionary for this batch\n",
    "            feed_dict = {X: Xd[idx,:],\n",
    "                         y: yd[idx],\n",
    "                         is_training: training_now }\n",
    "            # get batch size\n",
    "            actual_batch_size = yd[idx].shape[0]\n",
    "            \n",
    "            # have tensorflow compute loss and correct predictions\n",
    "            # and (if given) perform a training step\n",
    "            loss, corr, _ = session.run(variables,feed_dict=feed_dict)\n",
    "            \n",
    "            # aggregate performance stats\n",
    "            losses.append(loss*actual_batch_size)\n",
    "            correct += np.sum(corr)\n",
    "            \n",
    "            # print every now and then\n",
    "            if training_now and (iter_cnt % print_every) == 0:\n",
    "                print(\"Iteration {0}: with minibatch training loss = {1:.3g} and accuracy of {2:.2g}\"\\\n",
    "                      .format(iter_cnt,loss,np.sum(corr)/actual_batch_size))\n",
    "            iter_cnt += 1\n",
    "        total_correct = correct/Xd.shape[0]\n",
    "        total_loss = np.sum(losses)/Xd.shape[0]\n",
    "        print(\"Epoch {2}, Overall loss = {0:.3g} and accuracy of {1:.3g}\"\\\n",
    "              .format(total_loss,total_correct,e+1))\n",
    "        if plot_losses:\n",
    "            plt.plot(losses)\n",
    "            plt.grid(True)\n",
    "            plt.title('Epoch {} Loss'.format(e+1))\n",
    "            plt.xlabel('minibatch number')\n",
    "            plt.ylabel('minibatch loss')\n",
    "            plt.show()\n",
    "    return total_loss,total_correct\n",
    "\n",
    "with tf.Session() as sess:\n",
    "    with tf.device(\"/cpu:0\"): #\"/cpu:0\" or \"/gpu:0\" \n",
    "        sess.run(tf.global_variables_initializer())\n",
    "        print('Training')\n",
    "        run_model(sess,y_out,mean_loss,X_train,y_train,1,64,100,train_step,True)\n",
    "        print('Validation')\n",
    "        run_model(sess,y_out,mean_loss,X_val,y_val,1,64)"
   ]
  },
  {
   "cell_type": "markdown",
   "metadata": {},
   "source": [
    "## Training a specific model\n",
    "\n",
    "In this section, we're going to specify a model for you to construct. The goal here isn't to get good performance (that'll be next), but instead to get comfortable with understanding the TensorFlow documentation and configuring your own model. \n",
    "\n",
    "Using the code provided above as guidance, and using the following TensorFlow documentation, specify a model with the following architecture:\n",
    "\n",
    "* 7x7 Convolutional Layer with 32 filters and stride of 1\n",
    "* ReLU Activation Layer\n",
    "* Spatial Batch Normalization Layer (trainable parameters, with scale and centering)\n",
    "* 2x2 Max Pooling layer with a stride of 2\n",
    "* Affine layer with 1024 output units\n",
    "* ReLU Activation Layer\n",
    "* Affine layer from 1024 input units to 10 outputs\n",
    "\n"
   ]
  },
  {
   "cell_type": "code",
   "execution_count": 5,
   "metadata": {},
   "outputs": [],
   "source": [
    "def batch_norm(x, n_out, phase_train):\n",
    "    \"\"\"\n",
    "    Batch normalization on convolutional maps.\n",
    "    Ref.: http://stackoverflow.com/questions/33949786/how-could-i-use-batch-normalization-in-tensorflow\n",
    "    Args:\n",
    "        x:           Tensor, 4D BHWD input maps\n",
    "        n_out:       integer, depth of input maps\n",
    "        phase_train: boolean tf.Varialbe, true indicates training phase\n",
    "        scope:       string, variable scope\n",
    "    Return:\n",
    "        normed:      batch-normalized maps\n",
    "    \"\"\"\n",
    "    \n",
    "    \n",
    "    with tf.variable_scope('bn'):\n",
    "        beta = tf.Variable(tf.constant(0.0, shape=[n_out]), name='beta', trainable=True)\n",
    "        gamma = tf.Variable(tf.constant(1.0, shape=[n_out]), name='gamma', trainable=True)\n",
    "        \n",
    "        batch_mean, batch_var = tf.nn.moments(x, [0, 1, 2], name='moments')\n",
    "        ema = tf.train.ExponentialMovingAverage(decay=0.99)\n",
    "\n",
    "        def mean_var_with_update():\n",
    "            ema_apply_op = ema.apply([batch_mean, batch_var])\n",
    "            with tf.control_dependencies([ema_apply_op]):\n",
    "                return tf.identity(batch_mean), tf.identity(batch_var)\n",
    "\n",
    "        mean, var = tf.cond(phase_train,\n",
    "                            mean_var_with_update,\n",
    "                            lambda: (ema.average(batch_mean), ema.average(batch_var)))\n",
    "        normed = tf.nn.batch_normalization(x, mean, var, beta, gamma, 1e-3)\n",
    "    return normed"
   ]
  },
  {
   "cell_type": "code",
   "execution_count": 6,
   "metadata": {},
   "outputs": [],
   "source": [
    "# clear old variables\n",
    "tf.reset_default_graph()\n",
    "\n",
    "# define our input (e.g. the data that changes every batch)\n",
    "# The first dim is None, and gets sets automatically based on batch size fed in\n",
    "X = tf.placeholder(tf.float32, [None, 32, 32, 3])\n",
    "y = tf.placeholder(tf.int64, [None])\n",
    "is_training = tf.placeholder(tf.bool)\n",
    "\n",
    "# define model\n",
    "def complex_model(X, y, is_training):\n",
    "    # setup variables\n",
    "    Wconv1 = tf.get_variable(\"Wconv1\", shape=[7, 7, 3, 32])\n",
    "    bconv1 = tf.get_variable(\"bconv1\", shape=[32])\n",
    "    \n",
    "    mean1 = tf.get_variable(\"mean1\", shape=[32])\n",
    "    variance1 = tf.get_variable(\"variance1\", shape=[32])\n",
    "    ofset1 = tf.get_variable(\"ofset1\", shape=[32])\n",
    "    scale1 = tf.get_variable(\"scale1\", shape=[32])\n",
    "    \n",
    "    W1 = tf.get_variable(\"W1\", shape=[5408, 1024])\n",
    "    b1 = tf.get_variable(\"b1\", shape=[1024])\n",
    "    \n",
    "    W2 = tf.get_variable(\"W2\", shape=[1024, 10])\n",
    "    b2 = tf.get_variable(\"b2\", shape=[10])\n",
    "\n",
    "    # define our graph (e.g. two_layer_convnet)\n",
    "    s1 = tf.nn.conv2d(X, Wconv1, strides=[1,1,1,1], padding='VALID')\n",
    "    s2 = tf.nn.bias_add(s1, bconv1)\n",
    "    s3 = tf.nn.relu(s2)\n",
    "    s4 = batch_norm(s3, 32, is_training)\n",
    "    s5 = tf.nn.max_pool(s4, ksize=[1,2,2,1], strides=[1,2,2,1], padding='VALID')\n",
    "    \n",
    "    s6 = tf.reshape(s5, [-1, 5408])\n",
    "    \n",
    "    s7 = tf.matmul(s6, W1)\n",
    "    s8 = tf.nn.bias_add(s7, b1)\n",
    "    s9 = tf.nn.relu(s8)\n",
    "    \n",
    "    s10 = tf.matmul(s9, W2)\n",
    "    s11 = tf.nn.bias_add(s10, b2)\n",
    "    \n",
    "    return s11\n",
    "\n",
    "y_out = complex_model(X,y,is_training)"
   ]
  },
  {
   "cell_type": "markdown",
   "metadata": {},
   "source": [
    "To make sure you're doing the right thing, use the following tool to check the dimensionality of your output (it should be 64 x 10, since our batches have size 64 and the output of the final affine layer should be 10, corresponding to our 10 classes):"
   ]
  },
  {
   "cell_type": "code",
   "execution_count": 7,
   "metadata": {},
   "outputs": [
    {
     "name": "stdout",
     "output_type": "stream",
     "text": [
      "3.38 ms ± 46.4 µs per loop (mean ± std. dev. of 7 runs, 100 loops each)\n",
      "(64, 10)\n",
      "True\n"
     ]
    }
   ],
   "source": [
    "# Now we're going to feed a random batch into the model \n",
    "# and make sure the output is the right size\n",
    "x = np.random.randn(64, 32, 32,3)\n",
    "with tf.Session() as sess:\n",
    "    with tf.device(\"/cpu:0\"): #\"/cpu:0\" or \"/gpu:0\"\n",
    "        tf.global_variables_initializer().run()\n",
    "        \n",
    "        ans = sess.run(y_out,feed_dict={X:x,is_training:True})\n",
    "        %timeit sess.run(y_out,feed_dict={X:x,is_training:True})\n",
    "        print(ans.shape)\n",
    "        print(np.array_equal(ans.shape, np.array([64, 10])))"
   ]
  },
  {
   "cell_type": "markdown",
   "metadata": {},
   "source": [
    "You should see the following from the run above \n",
    "\n",
    "`(64, 10)`\n",
    "\n",
    "`True`"
   ]
  },
  {
   "cell_type": "markdown",
   "metadata": {},
   "source": [
    "### GPU!\n",
    "\n",
    "Now, we're going to try and start the model under the GPU device, the rest of the code stays unchanged and all our variables and operations will be computed using accelerated code paths. However, if there is no GPU, we get a Python exception and have to rebuild our graph. On a dual-core CPU, you might see around 50-80ms/batch running the above, while the Google Cloud GPUs (run below) should be around 2-5ms/batch."
   ]
  },
  {
   "cell_type": "code",
   "execution_count": 7,
   "metadata": {},
   "outputs": [
    {
     "name": "stdout",
     "output_type": "stream",
     "text": [
      "3.38 ms ± 56.7 µs per loop (mean ± std. dev. of 7 runs, 100 loops each)\n"
     ]
    }
   ],
   "source": [
    "x = np.random.randn(64, 32, 32,3)\n",
    "\n",
    "try:\n",
    "    with tf.Session() as sess:\n",
    "        with tf.device(\"/gpu:0\") as dev: #\"/cpu:0\" or \"/gpu:0\"\n",
    "            tf.global_variables_initializer().run()\n",
    "\n",
    "            ans = sess.run(y_out,feed_dict={X:x,is_training:True})\n",
    "            %timeit sess.run(y_out,feed_dict={X:x,is_training:True})\n",
    "except tf.errors.InvalidArgumentError:\n",
    "    print(\"no gpu found, please use Google Cloud if you want GPU acceleration\")    \n",
    "    # rebuild the graph\n",
    "    # trying to start a GPU throws an exception \n",
    "    # and also trashes the original graph\n",
    "    tf.reset_default_graph()\n",
    "    X = tf.placeholder(tf.float32, [None, 32, 32, 3])\n",
    "    y = tf.placeholder(tf.int64, [None])\n",
    "    is_training = tf.placeholder(tf.bool)\n",
    "    y_out = complex_model(X,y,is_training)"
   ]
  },
  {
   "cell_type": "markdown",
   "metadata": {},
   "source": [
    "You should observe that even a simple forward pass like this is significantly faster on the GPU. So for the rest of the assignment (and when you go train your models in assignment 3 and your project!), you should use GPU devices. However, with TensorFlow, the default device is a GPU if one is available, and a CPU otherwise, so we can skip the device specification from now on."
   ]
  },
  {
   "cell_type": "markdown",
   "metadata": {},
   "source": [
    "### Train the model.\n",
    "\n",
    "Now that you've seen how to define a model and do a single forward pass of some data through it, let's  walk through how you'd actually train one whole epoch over your training data (using the complex_model you created provided above).\n",
    "\n",
    "Make sure you understand how each TensorFlow function used below corresponds to what you implemented in your custom neural network implementation.\n",
    "\n",
    "First, set up an **RMSprop optimizer** (using a 1e-3 learning rate) and a **cross-entropy loss** function. See the TensorFlow documentation for more information\n",
    "* Layers, Activations, Loss functions : https://www.tensorflow.org/api_guides/python/nn\n",
    "* Optimizers: https://www.tensorflow.org/api_guides/python/train#Optimizers"
   ]
  },
  {
   "cell_type": "code",
   "execution_count": 8,
   "metadata": {},
   "outputs": [],
   "source": [
    "# Inputs\n",
    "#     y_out: is what your model computes\n",
    "#     y: is your TensorFlow variable with label information\n",
    "# Outputs\n",
    "#    mean_loss: a TensorFlow variable (scalar) with numerical loss\n",
    "#    optimizer: a TensorFlow optimizer\n",
    "# This should be ~3 lines of code!\n",
    "\n",
    "# define our loss\n",
    "total_loss = tf.losses.softmax_cross_entropy(tf.one_hot(y, 10), logits=y_out)\n",
    "mean_loss = tf.reduce_mean(total_loss)\n",
    "\n",
    "# define our optimizer\n",
    "optimizer = tf.train.RMSPropOptimizer(1e-3) # select optimizer and set learning rate"
   ]
  },
  {
   "cell_type": "code",
   "execution_count": 9,
   "metadata": {},
   "outputs": [],
   "source": [
    "# batch normalization in tensorflow requires this extra dependency\n",
    "extra_update_ops = tf.get_collection(tf.GraphKeys.UPDATE_OPS)\n",
    "with tf.control_dependencies(extra_update_ops):\n",
    "    train_step = optimizer.minimize(mean_loss)"
   ]
  },
  {
   "cell_type": "markdown",
   "metadata": {},
   "source": [
    "### Train the model\n",
    "Below we'll create a session and train the model over one epoch. You should see a loss of 1.4 to 2.0 and an accuracy of 0.4 to 0.5. There will be some variation due to random seeds and differences in initialization"
   ]
  },
  {
   "cell_type": "code",
   "execution_count": 10,
   "metadata": {},
   "outputs": [
    {
     "name": "stdout",
     "output_type": "stream",
     "text": [
      "Training\n",
      "Iteration 0: with minibatch training loss = 2.93 and accuracy of 0.12\n",
      "Iteration 100: with minibatch training loss = 1.97 and accuracy of 0.38\n",
      "Iteration 200: with minibatch training loss = 1.82 and accuracy of 0.36\n",
      "Iteration 300: with minibatch training loss = 1.55 and accuracy of 0.44\n",
      "Iteration 400: with minibatch training loss = 1.55 and accuracy of 0.44\n",
      "Iteration 500: with minibatch training loss = 1.6 and accuracy of 0.53\n",
      "Iteration 600: with minibatch training loss = 1.3 and accuracy of 0.61\n",
      "Iteration 700: with minibatch training loss = 1.53 and accuracy of 0.55\n",
      "Epoch 1, Overall loss = 1.67 and accuracy of 0.451\n"
     ]
    },
    {
     "data": {
      "text/plain": [
       "(1.6732177791011578, 0.45100000000000001)"
      ]
     },
     "execution_count": 10,
     "metadata": {},
     "output_type": "execute_result"
    }
   ],
   "source": [
    "sess = tf.Session()\n",
    "\n",
    "sess.run(tf.global_variables_initializer())\n",
    "print('Training')\n",
    "run_model(sess, y_out, mean_loss, X_train, y_train, 1, 64, 100, train_step)"
   ]
  },
  {
   "cell_type": "markdown",
   "metadata": {},
   "source": [
    "### Check the accuracy of the model.\n",
    "\n",
    "Let's see the train and test code in action -- feel free to use these methods when evaluating the models you develop below. You should see a loss of 1.3 to 2.0 with an accuracy of 0.45 to 0.55."
   ]
  },
  {
   "cell_type": "code",
   "execution_count": 11,
   "metadata": {},
   "outputs": [
    {
     "name": "stdout",
     "output_type": "stream",
     "text": [
      "Validation\n",
      "Epoch 1, Overall loss = 1.36 and accuracy of 0.522\n"
     ]
    },
    {
     "data": {
      "text/plain": [
       "(1.3554345064163209, 0.52200000000000002)"
      ]
     },
     "execution_count": 11,
     "metadata": {},
     "output_type": "execute_result"
    }
   ],
   "source": [
    "print('Validation')\n",
    "run_model(sess,y_out,mean_loss,X_val,y_val,1,64)"
   ]
  },
  {
   "cell_type": "markdown",
   "metadata": {},
   "source": [
    "## Train a _great_ model on CIFAR-10!\n",
    "\n",
    "Now it's your job to experiment with architectures, hyperparameters, loss functions, and optimizers to train a model that achieves ** >= 70% accuracy on the validation set** of CIFAR-10. You can use the `run_model` function from above."
   ]
  },
  {
   "cell_type": "markdown",
   "metadata": {},
   "source": [
    "### Things you should try:\n",
    "- **Filter size**: Above we used 7x7; this makes pretty pictures but smaller filters may be more efficient\n",
    "- **Number of filters**: Above we used 32 filters. Do more or fewer do better?\n",
    "- **Pooling vs Strided Convolution**: Do you use max pooling or just stride convolutions?\n",
    "- **Batch normalization**: Try adding spatial batch normalization after convolution layers and vanilla batch normalization after affine layers. Do your networks train faster?\n",
    "- **Network architecture**: The network above has two layers of trainable parameters. Can you do better with a deep network? Good architectures to try include:\n",
    "    - [conv-relu-pool]xN -> [affine]xM -> [softmax or SVM]\n",
    "    - [conv-relu-conv-relu-pool]xN -> [affine]xM -> [softmax or SVM]\n",
    "    - [batchnorm-relu-conv]xN -> [affine]xM -> [softmax or SVM]\n",
    "- **Use TensorFlow Scope**: Use TensorFlow scope and/or [tf.layers](https://www.tensorflow.org/api_docs/python/tf/layers) to make it easier to write deeper networks. See [this tutorial](https://www.tensorflow.org/tutorials/layers) for how to use `tf.layers`. \n",
    "- **Use Learning Rate Decay**: [As the notes point out](http://cs231n.github.io/neural-networks-3/#anneal), decaying the learning rate might help the model converge. Feel free to decay every epoch, when loss doesn't change over an entire epoch, or any other heuristic you find appropriate. See the [Tensorflow documentation](https://www.tensorflow.org/versions/master/api_guides/python/train#Decaying_the_learning_rate) for learning rate decay.\n",
    "- **Global Average Pooling**: Instead of flattening and then having multiple affine layers, perform convolutions until your image gets small (7x7 or so) and then perform an average pooling operation to get to a 1x1 image picture (1, 1 , Filter#), which is then reshaped into a (Filter#) vector. This is used in [Google's Inception Network](https://arxiv.org/abs/1512.00567) (See Table 1 for their architecture).\n",
    "- **Regularization**: Add l2 weight regularization, or perhaps use [Dropout as in the TensorFlow MNIST tutorial](https://www.tensorflow.org/get_started/mnist/pros)\n",
    "\n",
    "### Tips for training\n",
    "For each network architecture that you try, you should tune the learning rate and regularization strength. When doing this there are a couple important things to keep in mind:\n",
    "\n",
    "- If the parameters are working well, you should see improvement within a few hundred iterations\n",
    "- Remember the coarse-to-fine approach for hyperparameter tuning: start by testing a large range of hyperparameters for just a few training iterations to find the combinations of parameters that are working at all.\n",
    "- Once you have found some sets of parameters that seem to work, search more finely around these parameters. You may need to train for more epochs.\n",
    "- You should use the validation set for hyperparameter search, and we'll save the test set for evaluating your architecture on the best parameters as selected by the validation set.\n",
    "\n",
    "### Going above and beyond\n",
    "If you are feeling adventurous there are many other features you can implement to try and improve your performance. You are **not required** to implement any of these; however they would be good things to try for extra credit.\n",
    "\n",
    "- Alternative update steps: For the assignment we implemented SGD+momentum, RMSprop, and Adam; you could try alternatives like AdaGrad or AdaDelta.\n",
    "- Alternative activation functions such as leaky ReLU, parametric ReLU, ELU, or MaxOut.\n",
    "- Model ensembles\n",
    "- Data augmentation\n",
    "- New Architectures\n",
    "  - [ResNets](https://arxiv.org/abs/1512.03385) where the input from the previous layer is added to the output.\n",
    "  - [DenseNets](https://arxiv.org/abs/1608.06993) where inputs into previous layers are concatenated together.\n",
    "  - [This blog has an in-depth overview](https://chatbotslife.com/resnets-highwaynets-and-densenets-oh-my-9bb15918ee32)\n",
    "\n",
    "If you do decide to implement something extra, clearly describe it in the \"Extra Credit Description\" cell below.\n",
    "\n",
    "### What we expect\n",
    "At the very least, you should be able to train a ConvNet that gets at **>= 70% accuracy on the validation set**. This is just a lower bound - if you are careful it should be possible to get accuracies much higher than that! Extra credit points will be awarded for particularly high-scoring models or unique approaches.\n",
    "\n",
    "You should use the space below to experiment and train your network. The final cell in this notebook should contain the training and validation set accuracies for your final trained network.\n",
    "\n",
    "Have fun and happy training!"
   ]
  },
  {
   "cell_type": "code",
   "execution_count": 36,
   "metadata": {},
   "outputs": [],
   "source": [
    "def my_model(X, y, is_training):\n",
    "    #input_dp = tf.layers.dropout(X, rate=0.1)\n",
    "    with tf.variable_scope('my_net'):\n",
    "        reg = 1e-6\n",
    "        \n",
    "        conv_1 = conv_bn_relu(X, 'conv_bn_relu_1', 16, 1, reg, padding='same', k_size=3)\n",
    "        \n",
    "        res_block = residual_block(conv_1, scope='res_block_1', f=16, reg=reg)\n",
    "        res_block = residual_block(res_block, scope='res_block_2', f=16, reg=reg)\n",
    "        res_block = residual_block(res_block, scope='res_block_3', f=16, reg=reg)\n",
    "        \n",
    "        conv_2 = conv_bn_relu(res_block, 'conv_bn_relu_2', 32, 2, reg, padding='same')\n",
    "        \n",
    "        res_block = residual_block(conv_2, scope='res_block_4', f=32, reg=reg)\n",
    "        res_block = residual_block(res_block, scope='res_block_5', f=32, reg=reg)\n",
    "        res_block = residual_block(res_block, scope='res_block_6', f=32, reg=reg)\n",
    "        \n",
    "        conv_3 = conv_bn_relu(res_block, 'conv_bn_relu_3', 64, 2, reg, padding='same')\n",
    "        \n",
    "        res_block = residual_block(conv_3, scope='res_block_7', f=64, reg=reg)\n",
    "        res_block = residual_block(res_block, scope='res_block_8', f=64, reg=reg)\n",
    "        res_block = residual_block(res_block, scope='res_block_9', f=64, reg=reg)\n",
    "        \n",
    "        average_pooling = tf.layers.average_pooling2d(res_block, 8, 1)\n",
    "        \n",
    "        flatten = tf.contrib.layers.flatten(average_pooling)\n",
    "        \n",
    "        dense = tf.layers.dense(flatten, units=10, \n",
    "                                kernel_initializer = tf.contrib.layers.xavier_initializer(),\n",
    "                                kernel_regularizer=tf.contrib.layers.l2_regularizer(reg),\n",
    "                                bias_regularizer=tf.contrib.layers.l2_regularizer(reg))\n",
    "        \n",
    "        return dense"
   ]
  },
  {
   "cell_type": "code",
   "execution_count": 37,
   "metadata": {},
   "outputs": [
    {
     "data": {
      "text/plain": [
       "<tf.Tensor 'my_net/dense/BiasAdd:0' shape=(?, 10) dtype=float32>"
      ]
     },
     "execution_count": 37,
     "metadata": {},
     "output_type": "execute_result"
    }
   ],
   "source": [
    "tf.reset_default_graph()\n",
    "\n",
    "X = tf.placeholder(tf.float32, [None, 32, 32, 3])\n",
    "y = tf.placeholder(tf.int64, [None])\n",
    "is_training = tf.placeholder(tf.bool)\n",
    "\n",
    "y_out = my_model(X, y, is_training)\n",
    "y_out"
   ]
  },
  {
   "cell_type": "code",
   "execution_count": 65,
   "metadata": {},
   "outputs": [],
   "source": [
    "def batch_norm(x, phase_train):\n",
    "    \"\"\"\n",
    "    Batch normalization on convolutional maps.\n",
    "    Ref.: http://stackoverflow.com/questions/33949786/how-could-i-use-batch-normalization-in-tensorflow\n",
    "    Args:\n",
    "        x:           Tensor, 4D BHWD input maps\n",
    "        n_out:       integer, depth of input maps\n",
    "        phase_train: boolean tf.Varialbe, true indicates training phase\n",
    "        scope:       string, variable scope\n",
    "    Return:\n",
    "        normed:      batch-normalized maps\n",
    "    \"\"\"\n",
    "    \n",
    "    \n",
    "    with tf.variable_scope('bn'):\n",
    "        n_out = x.get_shape().as_list()[-1]\n",
    "        \n",
    "        beta = tf.Variable(tf.constant(0.0, shape=[n_out]), name='beta', trainable=True)\n",
    "        gamma = tf.Variable(tf.constant(1.0, shape=[n_out]), name='gamma', trainable=True)\n",
    "        \n",
    "        batch_mean, batch_var = tf.nn.moments(x, [0, 1, 2], name='moments')\n",
    "        ema = tf.train.ExponentialMovingAverage(decay=0.99)\n",
    "\n",
    "        def mean_var_with_update():\n",
    "            ema_apply_op = ema.apply([batch_mean, batch_var])\n",
    "            with tf.control_dependencies([ema_apply_op]):\n",
    "                return tf.identity(batch_mean), tf.identity(batch_var)\n",
    "\n",
    "        mean, var = tf.cond(phase_train,\n",
    "                            mean_var_with_update,\n",
    "                            lambda: (ema.average(batch_mean), ema.average(batch_var)))\n",
    "        normed = tf.nn.batch_normalization(x, mean, var, beta, gamma, 1e-3)\n",
    "    return normed\n",
    "\n",
    "def conv_bn_relu(X, scope, f, s, reg, padding='same', k_size=3):\n",
    "    with tf.variable_scope(scope):\n",
    "        conv = tf.layers.conv2d(X, f, k_size, s, padding=padding,\n",
    "                                kernel_initializer = tf.contrib.layers.xavier_initializer_conv2d(),\n",
    "                                kernel_regularizer=tf.contrib.layers.l2_regularizer(reg),\n",
    "                                bias_regularizer=tf.contrib.layers.l2_regularizer(reg))\n",
    "        bn = tf.layers.batch_normalization(conv)\n",
    "        relu = tf.nn.relu(bn)\n",
    "        \n",
    "        \n",
    "        return relu\n",
    "    \n",
    "\n",
    "def bn_relu_conv(X, scope, f, s, reg, is_training, padding='same', k_size=3):\n",
    "    with tf.variable_scope(scope):\n",
    "        bn = batch_norm(X, is_training)\n",
    "        relu = tf.nn.relu(bn, name='relu')\n",
    "        conv = tf.layers.conv2d(relu, f, k_size, s, padding=padding, name='conv',\n",
    "                                  kernel_initializer = tf.contrib.layers.xavier_initializer_conv2d(),\n",
    "                                  kernel_regularizer=tf.contrib.layers.l2_regularizer(reg),\n",
    "                                  bias_regularizer=tf.contrib.layers.l2_regularizer(reg))\n",
    "        \n",
    "        return conv\n",
    "\n",
    "    \n",
    "def dense_bn(X, scope, units, reg, activation=None):\n",
    "    with tf.variable_scope(scope):\n",
    "        dense = tf.layers.dense(X, units=units, \n",
    "                                kernel_initializer = tf.contrib.layers.xavier_initializer(),\n",
    "                                kernel_regularizer=tf.contrib.layers.l2_regularizer(reg),\n",
    "                                bias_regularizer=tf.contrib.layers.l2_regularizer(reg))\n",
    "        bn_dense = tf.layers.batch_normalization(dense)\n",
    "        relu = tf.nn.relu(bn_dense)\n",
    "        \n",
    "        return relu\n",
    "\n",
    "    \n",
    "def residual_block(X, is_training, scope, f, reg):\n",
    "    with tf.variable_scope(scope):\n",
    "        block_1 = bn_relu_conv(X, 'conv_bn_relu_1', f, 1, reg, is_training, padding='same')\n",
    "        block_2 = bn_relu_conv(block_1, 'conv_bn_relu_2', f, 1, reg, is_training, padding='same')\n",
    "        \n",
    "        return block_2 + X\n",
    "    \n",
    "def residual_block(X, is_training, scope, output_f, reg, first_block=False):\n",
    "    \n",
    "    input_f = X.get_shape().as_list()[-1]\n",
    "\n",
    "    # When it's time to \"shrink\" the image size, we use stride = 2\n",
    "    if input_f * 2 == output_f:\n",
    "        increase_dim = True\n",
    "        stride = 2\n",
    "    elif input_f == output_f:\n",
    "        increase_dim = False\n",
    "        stride = 1\n",
    "    else:\n",
    "        raise ValueError('Output and input channel does not match in residual blocks!!!')\n",
    "\n",
    "    # The first conv layer of the first residual block does not need to be normalized and relu-ed.\n",
    "    with tf.variable_scope(scope):\n",
    "        if first_block:\n",
    "            conv1 = tf.layers.conv2d(X, output_f, 3, 1, padding='SAME', name='conv_bn_relu_1',\n",
    "                                     kernel_initializer=tf.contrib.layers.xavier_initializer_conv2d(),\n",
    "                                     kernel_regularizer=tf.contrib.layers.l2_regularizer(reg),\n",
    "                                     bias_regularizer=tf.contrib.layers.l2_regularizer(reg))\n",
    "        else:\n",
    "            conv1 = bn_relu_conv(X, 'conv_bn_relu_1', output_f, stride, reg, is_training, padding='same')\n",
    "\n",
    "        conv2 = bn_relu_conv(conv1, 'conv_bn_relu_2', output_f, 1, reg, is_training, padding='same')\n",
    "\n",
    "    # When the channels of input layer and conv2 does not match, we add zero pads to increase the\n",
    "    #  depth of input layers\n",
    "    if increase_dim is True:\n",
    "        pooled_X = tf.nn.avg_pool(X, ksize=[1, 2, 2, 1], strides=[1, 2, 2, 1], padding='VALID')\n",
    "        padded_X = tf.pad(pooled_X, [[0, 0], [0, 0], [0, 0], [input_f // 2, input_f // 2]])\n",
    "    else:\n",
    "        padded_X = X\n",
    "\n",
    "    return conv2 + padded_X"
   ]
  },
  {
   "cell_type": "code",
   "execution_count": 69,
   "metadata": {},
   "outputs": [],
   "source": [
    "# Feel free to play with this cell\n",
    "   \n",
    "def my_model(X, y, is_training):\n",
    "    #input_dp = tf.layers.dropout(X, rate=0.1)\n",
    "    with tf.variable_scope('my_net'):\n",
    "        reg = 1e-4\n",
    "        \n",
    "        conv_1 = bn_relu_conv(X, 'conv_bn_relu_1', 16, 1, reg, is_training, padding='same', k_size=3)\n",
    "        \n",
    "        res_block = residual_block(conv_1, is_training, scope='res_block_1', output_f=16, reg=reg, first_block=True)\n",
    "        res_block = residual_block(res_block, is_training, scope='res_block_2', output_f=16, reg=reg)\n",
    "        res_block = residual_block(res_block, is_training, scope='res_block_3', output_f=16, reg=reg)\n",
    "        \n",
    "        res_block = residual_block(res_block, is_training, scope='res_block_4', output_f=32, reg=reg)\n",
    "        res_block = residual_block(res_block, is_training, scope='res_block_5', output_f=32, reg=reg)\n",
    "        res_block = residual_block(res_block, is_training, scope='res_block_6', output_f=32, reg=reg)\n",
    "        \n",
    "        res_block = residual_block(res_block, is_training, scope='res_block_7', output_f=64, reg=reg)\n",
    "        res_block = residual_block(res_block, is_training, scope='res_block_8', output_f=64, reg=reg)\n",
    "        res_block = residual_block(res_block, is_training, scope='res_block_9', output_f=64, reg=reg)\n",
    "        \n",
    "        average_pooling = tf.layers.average_pooling2d(res_block, 8, 1)\n",
    "        \n",
    "        flatten = tf.contrib.layers.flatten(average_pooling)\n",
    "        \n",
    "        dense = tf.layers.dense(flatten, units=10, \n",
    "                                kernel_initializer=tf.uniform_unit_scaling_initializer(factor=1.0),\n",
    "                                kernel_regularizer=tf.contrib.layers.l2_regularizer(reg),\n",
    "                                bias_regularizer=tf.contrib.layers.l2_regularizer(reg))\n",
    "        \n",
    "        return dense\n",
    "\n",
    "def get_loss(y_pred, y_true):\n",
    "    #weights = tf.get_collection(tf.GraphKeys.TRAINABLE_VARIABLES, 'my_net')\n",
    "    \n",
    "    reg_losses = tf.get_collection(tf.GraphKeys.REGULARIZATION_LOSSES, 'my_net')\n",
    "    model_losses = tf.losses.softmax_cross_entropy(y_true, logits=y_pred)\n",
    "    \n",
    "    return tf.reduce_mean(model_losses) + tf.reduce_mean(reg_losses)\n",
    "\n",
    "tf.reset_default_graph()\n",
    "\n",
    "X = tf.placeholder(tf.float32, [None, 32, 32, 3])\n",
    "y = tf.placeholder(tf.int64, [None])\n",
    "is_training = tf.placeholder(tf.bool)\n",
    "\n",
    "y_out = my_model(X, y, is_training)\n",
    "\n",
    "mean_loss = get_loss(y_out, tf.one_hot(y, 10))\n",
    "\n",
    "optimizer = tf.train.MomentumOptimizer(learning_rate=0.01, momentum=0.9)\n",
    "\n",
    "# batch normalization in tensorflow requires this extra dependency\n",
    "extra_update_ops = tf.get_collection(tf.GraphKeys.UPDATE_OPS)\n",
    "with tf.control_dependencies(extra_update_ops):\n",
    "    train_step = optimizer.minimize(mean_loss)"
   ]
  },
  {
   "cell_type": "code",
   "execution_count": null,
   "metadata": {
    "scrolled": true
   },
   "outputs": [
    {
     "data": {
      "text/plain": [
       "[<tf.Tensor 'my_net/conv_bn_relu_1/conv/kernel/Regularizer/l2_regularizer:0' shape=() dtype=float32>,\n",
       " <tf.Tensor 'my_net/conv_bn_relu_1/conv/bias/Regularizer/l2_regularizer:0' shape=() dtype=float32>,\n",
       " <tf.Tensor 'my_net/res_block_1/conv_bn_relu_1/kernel/Regularizer/l2_regularizer:0' shape=() dtype=float32>,\n",
       " <tf.Tensor 'my_net/res_block_1/conv_bn_relu_1/bias/Regularizer/l2_regularizer:0' shape=() dtype=float32>,\n",
       " <tf.Tensor 'my_net/res_block_1/conv_bn_relu_2/conv/kernel/Regularizer/l2_regularizer:0' shape=() dtype=float32>,\n",
       " <tf.Tensor 'my_net/res_block_1/conv_bn_relu_2/conv/bias/Regularizer/l2_regularizer:0' shape=() dtype=float32>,\n",
       " <tf.Tensor 'my_net/res_block_2/conv_bn_relu_1/conv/kernel/Regularizer/l2_regularizer:0' shape=() dtype=float32>,\n",
       " <tf.Tensor 'my_net/res_block_2/conv_bn_relu_1/conv/bias/Regularizer/l2_regularizer:0' shape=() dtype=float32>,\n",
       " <tf.Tensor 'my_net/res_block_2/conv_bn_relu_2/conv/kernel/Regularizer/l2_regularizer:0' shape=() dtype=float32>,\n",
       " <tf.Tensor 'my_net/res_block_2/conv_bn_relu_2/conv/bias/Regularizer/l2_regularizer:0' shape=() dtype=float32>,\n",
       " <tf.Tensor 'my_net/res_block_3/conv_bn_relu_1/conv/kernel/Regularizer/l2_regularizer:0' shape=() dtype=float32>,\n",
       " <tf.Tensor 'my_net/res_block_3/conv_bn_relu_1/conv/bias/Regularizer/l2_regularizer:0' shape=() dtype=float32>,\n",
       " <tf.Tensor 'my_net/res_block_3/conv_bn_relu_2/conv/kernel/Regularizer/l2_regularizer:0' shape=() dtype=float32>,\n",
       " <tf.Tensor 'my_net/res_block_3/conv_bn_relu_2/conv/bias/Regularizer/l2_regularizer:0' shape=() dtype=float32>,\n",
       " <tf.Tensor 'my_net/res_block_4/conv_bn_relu_1/conv/kernel/Regularizer/l2_regularizer:0' shape=() dtype=float32>,\n",
       " <tf.Tensor 'my_net/res_block_4/conv_bn_relu_1/conv/bias/Regularizer/l2_regularizer:0' shape=() dtype=float32>,\n",
       " <tf.Tensor 'my_net/res_block_4/conv_bn_relu_2/conv/kernel/Regularizer/l2_regularizer:0' shape=() dtype=float32>,\n",
       " <tf.Tensor 'my_net/res_block_4/conv_bn_relu_2/conv/bias/Regularizer/l2_regularizer:0' shape=() dtype=float32>,\n",
       " <tf.Tensor 'my_net/res_block_5/conv_bn_relu_1/conv/kernel/Regularizer/l2_regularizer:0' shape=() dtype=float32>,\n",
       " <tf.Tensor 'my_net/res_block_5/conv_bn_relu_1/conv/bias/Regularizer/l2_regularizer:0' shape=() dtype=float32>,\n",
       " <tf.Tensor 'my_net/res_block_5/conv_bn_relu_2/conv/kernel/Regularizer/l2_regularizer:0' shape=() dtype=float32>,\n",
       " <tf.Tensor 'my_net/res_block_5/conv_bn_relu_2/conv/bias/Regularizer/l2_regularizer:0' shape=() dtype=float32>,\n",
       " <tf.Tensor 'my_net/res_block_6/conv_bn_relu_1/conv/kernel/Regularizer/l2_regularizer:0' shape=() dtype=float32>,\n",
       " <tf.Tensor 'my_net/res_block_6/conv_bn_relu_1/conv/bias/Regularizer/l2_regularizer:0' shape=() dtype=float32>,\n",
       " <tf.Tensor 'my_net/res_block_6/conv_bn_relu_2/conv/kernel/Regularizer/l2_regularizer:0' shape=() dtype=float32>,\n",
       " <tf.Tensor 'my_net/res_block_6/conv_bn_relu_2/conv/bias/Regularizer/l2_regularizer:0' shape=() dtype=float32>,\n",
       " <tf.Tensor 'my_net/res_block_7/conv_bn_relu_1/conv/kernel/Regularizer/l2_regularizer:0' shape=() dtype=float32>,\n",
       " <tf.Tensor 'my_net/res_block_7/conv_bn_relu_1/conv/bias/Regularizer/l2_regularizer:0' shape=() dtype=float32>,\n",
       " <tf.Tensor 'my_net/res_block_7/conv_bn_relu_2/conv/kernel/Regularizer/l2_regularizer:0' shape=() dtype=float32>,\n",
       " <tf.Tensor 'my_net/res_block_7/conv_bn_relu_2/conv/bias/Regularizer/l2_regularizer:0' shape=() dtype=float32>,\n",
       " <tf.Tensor 'my_net/res_block_8/conv_bn_relu_1/conv/kernel/Regularizer/l2_regularizer:0' shape=() dtype=float32>,\n",
       " <tf.Tensor 'my_net/res_block_8/conv_bn_relu_1/conv/bias/Regularizer/l2_regularizer:0' shape=() dtype=float32>,\n",
       " <tf.Tensor 'my_net/res_block_8/conv_bn_relu_2/conv/kernel/Regularizer/l2_regularizer:0' shape=() dtype=float32>,\n",
       " <tf.Tensor 'my_net/res_block_8/conv_bn_relu_2/conv/bias/Regularizer/l2_regularizer:0' shape=() dtype=float32>,\n",
       " <tf.Tensor 'my_net/res_block_9/conv_bn_relu_1/conv/kernel/Regularizer/l2_regularizer:0' shape=() dtype=float32>,\n",
       " <tf.Tensor 'my_net/res_block_9/conv_bn_relu_1/conv/bias/Regularizer/l2_regularizer:0' shape=() dtype=float32>,\n",
       " <tf.Tensor 'my_net/res_block_9/conv_bn_relu_2/conv/kernel/Regularizer/l2_regularizer:0' shape=() dtype=float32>,\n",
       " <tf.Tensor 'my_net/res_block_9/conv_bn_relu_2/conv/bias/Regularizer/l2_regularizer:0' shape=() dtype=float32>,\n",
       " <tf.Tensor 'my_net/dense/kernel/Regularizer/l2_regularizer:0' shape=() dtype=float32>,\n",
       " <tf.Tensor 'my_net/dense/bias/Regularizer/l2_regularizer:0' shape=() dtype=float32>]"
      ]
     },
     "execution_count": 70,
     "metadata": {},
     "output_type": "execute_result"
    }
   ],
   "source": [
    "tf.get_collection(tf.GraphKeys.REGULARIZATION_LOSSES)"
   ]
  },
  {
   "cell_type": "code",
   "execution_count": null,
   "metadata": {
    "scrolled": true
   },
   "outputs": [
    {
     "name": "stdout",
     "output_type": "stream",
     "text": [
      "Epoch #: 1\n",
      "\tstep 0, batch training accuracy 0.101562\n",
      "\tstep 100, batch training accuracy 0.28125\n",
      "\tstep 200, batch training accuracy 0.476562\n",
      "\tstep 300, batch training accuracy 0.429688\n",
      "\n",
      "\tValidation accuracy 0.28200000524520874\n",
      "\n",
      "\tTraining accuracy 0.26251018047332764\n",
      "Epoch #: 2\n",
      "\tstep 0, batch training accuracy 0.617188\n",
      "\tstep 100, batch training accuracy 0.625\n",
      "\tstep 200, batch training accuracy 0.5625\n",
      "\tstep 300, batch training accuracy 0.703125\n",
      "\n",
      "\tValidation accuracy 0.527999997138977\n",
      "\n",
      "\tTraining accuracy 0.5231224298477173\n",
      "Epoch #: 3\n",
      "\tstep 0, batch training accuracy 0.640625\n",
      "\tstep 100, batch training accuracy 0.671875\n",
      "\tstep 200, batch training accuracy 0.679688\n",
      "\tstep 300, batch training accuracy 0.726562\n",
      "\n",
      "\tValidation accuracy 0.528999924659729\n",
      "\n",
      "\tTraining accuracy 0.5313673615455627\n",
      "Epoch #: 4\n",
      "\tstep 0, batch training accuracy 0.679688\n",
      "\tstep 100, batch training accuracy 0.75\n",
      "\tstep 200, batch training accuracy 0.75\n",
      "\tstep 300, batch training accuracy 0.664062\n",
      "\n",
      "\tValidation accuracy 0.5419999957084656\n",
      "\n",
      "\tTraining accuracy 0.5272244215011597\n",
      "Epoch #: 5\n",
      "\tstep 0, batch training accuracy 0.765625\n",
      "\tstep 100, batch training accuracy 0.757812\n",
      "\tstep 200, batch training accuracy 0.796875\n",
      "\tstep 300, batch training accuracy 0.742188\n",
      "\n",
      "\tValidation accuracy 0.6609999537467957\n",
      "\n",
      "\tTraining accuracy 0.6711632609367371\n",
      "Epoch #: 6\n",
      "\tstep 0, batch training accuracy 0.78125\n",
      "\tstep 100, batch training accuracy 0.789062\n",
      "\tstep 200, batch training accuracy 0.835938\n",
      "\tstep 300, batch training accuracy 0.773438\n",
      "\n",
      "\tValidation accuracy 0.6049999594688416\n",
      "\n",
      "\tTraining accuracy 0.6508775353431702\n",
      "Epoch #: 7\n",
      "\tstep 0, batch training accuracy 0.851562\n",
      "\tstep 100, batch training accuracy 0.8125\n",
      "\tstep 200, batch training accuracy 0.78125\n",
      "\tstep 300, batch training accuracy 0.789062\n",
      "\n",
      "\tValidation accuracy 0.6709998846054077\n",
      "\n",
      "\tTraining accuracy 0.7074081301689148\n",
      "Epoch #: 8\n",
      "\tstep 0, batch training accuracy 0.8125\n",
      "\tstep 100, batch training accuracy 0.828125\n",
      "\tstep 200, batch training accuracy 0.859375\n",
      "\tstep 300, batch training accuracy 0.835938\n",
      "\n",
      "\tValidation accuracy 0.7380000352859497\n",
      "\n",
      "\tTraining accuracy 0.7702040076255798\n",
      "Epoch #: 9\n",
      "\tstep 0, batch training accuracy 0.882812\n",
      "\tstep 100, batch training accuracy 0.851562\n",
      "\tstep 200, batch training accuracy 0.820312\n",
      "\tstep 300, batch training accuracy 0.804688\n",
      "\n",
      "\tValidation accuracy 0.6549999713897705\n",
      "\n",
      "\tTraining accuracy 0.6917551755905151\n",
      "Epoch #: 10\n",
      "\tstep 0, batch training accuracy 0.875\n",
      "\tstep 100, batch training accuracy 0.898438\n",
      "\tstep 200, batch training accuracy 0.84375\n",
      "\tstep 300, batch training accuracy 0.882812\n",
      "\n",
      "\tValidation accuracy 0.5729999542236328\n",
      "\n",
      "\tTraining accuracy 0.6155917644500732\n",
      "Epoch #: 11\n",
      "\tstep 0, batch training accuracy 0.84375\n",
      "\tstep 100, batch training accuracy 0.8125\n",
      "\tstep 200, batch training accuracy 0.859375\n",
      "\tstep 300, batch training accuracy 0.867188\n",
      "\n",
      "\tValidation accuracy 0.6629999876022339\n",
      "\n",
      "\tTraining accuracy 0.7142857313156128\n",
      "Epoch #: 12\n",
      "\tstep 0, batch training accuracy 0.929688\n",
      "\tstep 100, batch training accuracy 0.914062\n",
      "\tstep 200, batch training accuracy 0.820312\n",
      "\tstep 300, batch training accuracy 0.828125\n",
      "\n",
      "\tValidation accuracy 0.7059999704360962\n",
      "\n",
      "\tTraining accuracy 0.759224534034729\n",
      "Epoch #: 13\n",
      "\tstep 0, batch training accuracy 0.96875\n",
      "\tstep 100, batch training accuracy 0.867188\n",
      "\tstep 200, batch training accuracy 0.921875\n",
      "\tstep 300, batch training accuracy 0.921875\n",
      "\n",
      "\tValidation accuracy 0.7619999647140503\n",
      "\n",
      "\tTraining accuracy 0.8247346878051758\n",
      "Epoch #: 14\n",
      "\tstep 0, batch training accuracy 0.921875\n",
      "\tstep 100, batch training accuracy 0.882812\n",
      "\tstep 200, batch training accuracy 0.914062\n",
      "\tstep 300, batch training accuracy 0.9375\n",
      "\n",
      "\tValidation accuracy 0.7629998922348022\n",
      "\n",
      "\tTraining accuracy 0.8703673481941223\n",
      "Epoch #: 15\n",
      "\tstep 0, batch training accuracy 0.929688\n",
      "\tstep 100, batch training accuracy 0.898438\n",
      "\tstep 200, batch training accuracy 0.929688\n",
      "\tstep 300, batch training accuracy 0.898438\n",
      "\n",
      "\tValidation accuracy 0.7059999108314514\n",
      "\n",
      "\tTraining accuracy 0.7933060526847839\n",
      "Epoch #: 16\n",
      "\tstep 0, batch training accuracy 0.953125\n",
      "\tstep 100, batch training accuracy 0.929688\n",
      "\tstep 200, batch training accuracy 0.945312\n",
      "\tstep 300, batch training accuracy 0.882812\n",
      "\n",
      "\tValidation accuracy 0.7029999494552612\n",
      "\n",
      "\tTraining accuracy 0.8261428475379944\n",
      "Epoch #: 17\n",
      "\tstep 0, batch training accuracy 0.976562\n",
      "\tstep 100, batch training accuracy 0.9375\n",
      "\tstep 200, batch training accuracy 0.898438\n",
      "\tstep 300, batch training accuracy 0.882812\n",
      "\n",
      "\tValidation accuracy 0.7630000114440918\n",
      "\n",
      "\tTraining accuracy 0.8533673882484436\n",
      "Epoch #: 18\n",
      "\tstep 0, batch training accuracy 0.914062\n",
      "\tstep 100, batch training accuracy 0.9375\n",
      "\tstep 200, batch training accuracy 0.929688\n",
      "\tstep 300, batch training accuracy 0.960938\n",
      "\n",
      "\tValidation accuracy 0.6189999580383301\n",
      "\n",
      "\tTraining accuracy 0.6899591684341431\n",
      "Epoch #: 19\n",
      "\tstep 0, batch training accuracy 0.960938\n",
      "\tstep 100, batch training accuracy 0.921875\n",
      "\tstep 200, batch training accuracy 0.921875\n",
      "\tstep 300, batch training accuracy 0.945312\n",
      "\n",
      "\tValidation accuracy 0.7609999775886536\n",
      "\n",
      "\tTraining accuracy 0.8659796118736267\n",
      "Epoch #: 20\n",
      "\tstep 0, batch training accuracy 0.976562\n",
      "\tstep 100, batch training accuracy 0.984375\n",
      "\tstep 200, batch training accuracy 0.984375\n",
      "\tstep 300, batch training accuracy 0.921875\n",
      "\n",
      "\tValidation accuracy 0.7399999499320984\n",
      "\n",
      "\tTraining accuracy 0.8308979868888855\n",
      "Epoch #: 21\n",
      "\tstep 0, batch training accuracy 0.9375\n",
      "\tstep 100, batch training accuracy 0.96875\n",
      "\tstep 200, batch training accuracy 0.976562\n",
      "\tstep 300, batch training accuracy 0.921875\n",
      "\n",
      "\tValidation accuracy 0.7540000081062317\n",
      "\n",
      "\tTraining accuracy 0.8522244691848755\n",
      "Epoch #: 22\n",
      "\tstep 0, batch training accuracy 0.945312\n",
      "\tstep 100, batch training accuracy 0.976562\n",
      "\tstep 200, batch training accuracy 0.929688\n",
      "\tstep 300, batch training accuracy 0.960938\n",
      "\n",
      "\tValidation accuracy 0.6929999589920044\n",
      "\n",
      "\tTraining accuracy 0.7931632399559021\n",
      "Epoch #: 23\n",
      "\tstep 0, batch training accuracy 0.960938\n",
      "\tstep 100, batch training accuracy 0.953125\n",
      "\tstep 200, batch training accuracy 0.960938\n",
      "\tstep 300, batch training accuracy 0.96875\n",
      "\n",
      "\tValidation accuracy 0.7039999961853027\n",
      "\n",
      "\tTraining accuracy 0.7912040948867798\n",
      "Epoch #: 24\n",
      "\tstep 0, batch training accuracy 0.992188\n",
      "\tstep 100, batch training accuracy 0.976562\n",
      "\tstep 200, batch training accuracy 0.976562\n",
      "\tstep 300, batch training accuracy 0.945312\n",
      "\n",
      "\tValidation accuracy 0.6949999928474426\n",
      "\n",
      "\tTraining accuracy 0.8072856664657593\n",
      "Epoch #: 25\n",
      "\tstep 0, batch training accuracy 0.984375\n",
      "\tstep 100, batch training accuracy 0.976562\n"
     ]
    }
   ],
   "source": [
    "def batch_generator(X, y, batch_size):\n",
    "    # shuffle indicies\n",
    "    indicies = np.arange(X.shape[0])\n",
    "    np.random.shuffle(indicies)\n",
    "    \n",
    "    for i in range(int(math.ceil(X.shape[0] / batch_size))):\n",
    "        # generate indicies for the batch\n",
    "        start_idx = (i * batch_size) % X.shape[0]\n",
    "        idx = indicies[start_idx:start_idx + batch_size]\n",
    "        \n",
    "        yield X[idx, :], y[idx]\n",
    "\n",
    "\n",
    "predict = y_out\n",
    "\n",
    "# have tensorflow compute accuracy\n",
    "correct_prediction = tf.equal(tf.argmax(predict,1), y)\n",
    "accuracy = tf.reduce_mean(tf.cast(correct_prediction, tf.float32))           \n",
    "            \n",
    "with tf.Session() as sess:\n",
    "    sess.run(tf.global_variables_initializer())\n",
    "    accuracies = []\n",
    "    \n",
    "    for e in range(25):\n",
    "        print('Epoch #: {}'.format(e+1))\n",
    "        train_accuracies, val_accuracies = [], []\n",
    "        \n",
    "        for i, (X_batch, y_batch) in enumerate(batch_generator(X_train, y_train, 128)):\n",
    "            # create a feed dictionary for this batch\n",
    "            feed_dict = {X: X_batch, y: y_batch, is_training: True}\n",
    "\n",
    "            if i % 100 == 0:\n",
    "                train_accuracy = accuracy.eval(feed_dict=feed_dict)\n",
    "                print('\\tstep %d, batch training accuracy %g' % (i, train_accuracy))\n",
    "            \n",
    "            train_step.run(feed_dict=feed_dict)\n",
    "        \n",
    "        for i, (X_batch, y_batch) in enumerate(batch_generator(X_val, y_val, 100)):\n",
    "            feed_dict = {X: X_batch, y: y_batch, is_training: False}\n",
    "            train_accuracies.append(accuracy.eval(feed_dict=feed_dict))\n",
    "        train_accuracy = np.mean(train_accuracies)\n",
    "        print('\\n\\tValidation accuracy {}'.format(train_accuracy))\n",
    "        \n",
    "        for i, (X_batch, y_batch) in enumerate(batch_generator(X_train, y_train, 100)):\n",
    "            feed_dict = {X: X_batch, y: y_batch, is_training: False}\n",
    "            val_accuracies.append(accuracy.eval(feed_dict=feed_dict))\n",
    "        validation_accuracy = np.mean(val_accuracies)\n",
    "        print('\\n\\tTraining accuracy {}'.format(validation_accuracy))\n",
    "        \n",
    "        accuracies.append((train_accuracy, validation_accuracy))"
   ]
  },
  {
   "cell_type": "code",
   "execution_count": null,
   "metadata": {},
   "outputs": [],
   "source": [
    "train_accuracies, validation_accuracies = zip(*accuracies)\n",
    "plt.plot(train_accuracies)\n",
    "plt.plot(train_accuracies)\n",
    "plt.show()"
   ]
  },
  {
   "cell_type": "code",
   "execution_count": null,
   "metadata": {
    "scrolled": true
   },
   "outputs": [],
   "source": [
    "# Feel free to play with this cell\n",
    "# This default code creates a session\n",
    "# and trains your model for 10 epochs\n",
    "# then prints the validation set accuracy\n",
    "sess = tf.Session()\n",
    "sess.run(tf.global_variables_initializer())\n",
    "\n",
    "print('Training')\n",
    "run_model(sess,y_out,total_loss,X_train,y_train,20,64,100,train_step,True)\n",
    "\n",
    "print('Validation')\n",
    "run_model(sess,y_out,total_loss,X_val,y_val,1,64)"
   ]
  },
  {
   "cell_type": "code",
   "execution_count": 64,
   "metadata": {},
   "outputs": [
    {
     "name": "stdout",
     "output_type": "stream",
     "text": [
      "Training\n",
      "Epoch 1, Overall loss = 0.202 and accuracy of 0.931\n",
      "Validation\n",
      "Epoch 1, Overall loss = 1.77 and accuracy of 0.651\n"
     ]
    },
    {
     "data": {
      "text/plain": [
       "(1.7674474086761474, 0.65100000000000002)"
      ]
     },
     "execution_count": 64,
     "metadata": {},
     "output_type": "execute_result"
    }
   ],
   "source": [
    "# Test your model here, and make sure \n",
    "# the output of this cell is the accuracy\n",
    "# of your best model on the training and val sets\n",
    "# We're looking for >= 70% accuracy on Validation\n",
    "print('Training')\n",
    "run_model(sess,y_out,mean_loss,X_train,y_train,1,64)\n",
    "print('Validation')\n",
    "run_model(sess,y_out,mean_loss,X_val,y_val,1,64)"
   ]
  },
  {
   "cell_type": "markdown",
   "metadata": {},
   "source": [
    "### Describe what you did here\n",
    "In this cell you should also write an explanation of what you did, any additional features that you implemented, and any visualizations or graphs that you make in the process of training and evaluating your network"
   ]
  },
  {
   "cell_type": "markdown",
   "metadata": {},
   "source": [
    "_Tell us here_"
   ]
  },
  {
   "cell_type": "markdown",
   "metadata": {},
   "source": [
    "### Test Set - Do this only once\n",
    "Now that we've gotten a result that we're happy with, we test our final model on the test set. This would be the score we would achieve on a competition. Think about how this compares to your validation set accuracy."
   ]
  },
  {
   "cell_type": "code",
   "execution_count": 111,
   "metadata": {},
   "outputs": [
    {
     "name": "stdout",
     "output_type": "stream",
     "text": [
      "Test\n",
      "Epoch 1, Overall loss = 1.65 and accuracy of 0.711\n"
     ]
    },
    {
     "data": {
      "text/plain": [
       "(1.6521048892974854, 0.71060000000000001)"
      ]
     },
     "execution_count": 111,
     "metadata": {},
     "output_type": "execute_result"
    }
   ],
   "source": [
    "print('Test')\n",
    "run_model(sess,y_out,mean_loss,X_test,y_test,1,64)"
   ]
  },
  {
   "cell_type": "markdown",
   "metadata": {},
   "source": [
    "## Going further with TensorFlow\n",
    "\n",
    "The next assignment will make heavy use of TensorFlow. You might also find it useful for your projects. \n"
   ]
  },
  {
   "cell_type": "markdown",
   "metadata": {},
   "source": [
    "# Extra Credit Description\n",
    "If you implement any additional features for extra credit, clearly describe them here with pointers to any code in this or other files if applicable."
   ]
  }
 ],
 "metadata": {
  "kernelspec": {
   "display_name": "Python 3",
   "language": "python",
   "name": "python3"
  },
  "language_info": {
   "codemirror_mode": {
    "name": "ipython",
    "version": 3
   },
   "file_extension": ".py",
   "mimetype": "text/x-python",
   "name": "python",
   "nbconvert_exporter": "python",
   "pygments_lexer": "ipython3",
   "version": "3.6.3"
  }
 },
 "nbformat": 4,
 "nbformat_minor": 1
}
