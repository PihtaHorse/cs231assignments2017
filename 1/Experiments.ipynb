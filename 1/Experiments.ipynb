{
 "cells": [
  {
   "cell_type": "code",
   "execution_count": 1,
   "metadata": {
    "collapsed": true
   },
   "outputs": [],
   "source": [
    "import numpy as np\n",
    "from scipy.spatial.distance import euclidean as l2_dist"
   ]
  },
  {
   "cell_type": "code",
   "execution_count": 2,
   "metadata": {
    "collapsed": true
   },
   "outputs": [],
   "source": [
    "x, y = np.array([[1, 2], [6, 7], [11, -12]]), np.array([[1, 2], [6, 7]])\n",
    "x, y = y, x"
   ]
  },
  {
   "cell_type": "code",
   "execution_count": 3,
   "metadata": {
    "collapsed": false
   },
   "outputs": [
    {
     "data": {
      "text/plain": [
       "array([[  0.        ,   7.07106781,  17.20465053],\n",
       "       [  7.07106781,   0.        ,  19.6468827 ]])"
      ]
     },
     "execution_count": 3,
     "metadata": {},
     "output_type": "execute_result"
    }
   ],
   "source": [
    "x2 = np.sum(x**2, axis=1, keepdims=True)\n",
    "y2 = np.sum(y**2, axis=1)\n",
    "xy = np.dot(x, y.T)\n",
    "dist = np.sqrt(x2 - 2*xy + y2)\n",
    "\n",
    "dist"
   ]
  },
  {
   "cell_type": "code",
   "execution_count": 4,
   "metadata": {
    "collapsed": false
   },
   "outputs": [
    {
     "data": {
      "text/plain": [
       "array([[  0.        ,   7.07106781,  17.20465053],\n",
       "       [  7.07106781,   0.        ,  19.6468827 ]])"
      ]
     },
     "execution_count": 4,
     "metadata": {},
     "output_type": "execute_result"
    }
   ],
   "source": [
    "np.array([[l2_dist(y_i, x_j) for y_i in y] for x_j in x])"
   ]
  },
  {
   "cell_type": "code",
   "execution_count": 5,
   "metadata": {
    "collapsed": false
   },
   "outputs": [
    {
     "data": {
      "text/plain": [
       "array([[  0.        ,   7.07106781,  17.20465053],\n",
       "       [  7.07106781,   0.        ,  19.6468827 ]])"
      ]
     },
     "execution_count": 5,
     "metadata": {},
     "output_type": "execute_result"
    }
   ],
   "source": [
    "np.array([np.sqrt(np.power(y - x_i, 2).sum(axis=1)) for x_i in x])"
   ]
  },
  {
   "cell_type": "code",
   "execution_count": 90,
   "metadata": {
    "collapsed": false
   },
   "outputs": [
    {
     "data": {
      "text/plain": [
       "array([[[[ 0.,  0.,  0.,  0.,  0.],\n",
       "         [ 0.,  1.,  1.,  1.,  0.],\n",
       "         [ 0.,  1.,  1.,  1.,  0.],\n",
       "         [ 0.,  1.,  1.,  1.,  0.],\n",
       "         [ 0.,  1.,  1.,  1.,  0.],\n",
       "         [ 0.,  1.,  1.,  1.,  0.],\n",
       "         [ 0.,  0.,  0.,  0.,  0.]],\n",
       "\n",
       "        [[ 0.,  0.,  0.,  0.,  0.],\n",
       "         [ 0.,  1.,  1.,  1.,  0.],\n",
       "         [ 0.,  1.,  1.,  1.,  0.],\n",
       "         [ 0.,  1.,  1.,  1.,  0.],\n",
       "         [ 0.,  1.,  1.,  1.,  0.],\n",
       "         [ 0.,  1.,  1.,  1.,  0.],\n",
       "         [ 0.,  0.,  0.,  0.,  0.]]]])"
      ]
     },
     "execution_count": 90,
     "metadata": {},
     "output_type": "execute_result"
    }
   ],
   "source": [
    "N, D, H, W = 1, 2, 5, 3\n",
    "a = np.ones([N, D, H, W])\n",
    "\n",
    "HH, WW = 3, 3\n",
    "pad, stride = 1, 2\n",
    "\n",
    "np.pad(a, [(0, 0), (0, 0), (pad, pad), (pad, pad)], mode='constant')"
   ]
  },
  {
   "cell_type": "code",
   "execution_count": 91,
   "metadata": {
    "collapsed": false
   },
   "outputs": [
    {
     "name": "stdout",
     "output_type": "stream",
     "text": [
      "(2, 5, 3)\n"
     ]
    },
    {
     "data": {
      "text/plain": [
       "array([[[ 1.,  1.,  1.],\n",
       "        [ 1.,  1.,  1.],\n",
       "        [ 1.,  1.,  1.],\n",
       "        [ 1.,  1.,  1.],\n",
       "        [ 1.,  1.,  1.]],\n",
       "\n",
       "       [[ 1.,  1.,  1.],\n",
       "        [ 1.,  1.,  1.],\n",
       "        [ 1.,  1.,  1.],\n",
       "        [ 1.,  1.,  1.],\n",
       "        [ 1.,  1.,  1.]]])"
      ]
     },
     "execution_count": 91,
     "metadata": {},
     "output_type": "execute_result"
    }
   ],
   "source": [
    "result = a[0] * a[0]\n",
    "print(result.shape)\n",
    "result"
   ]
  },
  {
   "cell_type": "code",
   "execution_count": 110,
   "metadata": {
    "collapsed": false
   },
   "outputs": [
    {
     "name": "stdout",
     "output_type": "stream",
     "text": [
      "[[ 0.51725213  0.06417008]\n",
      " [ 0.52463757  0.22759785]\n",
      " [ 0.96824176  0.53287612]]\n",
      "0.968241759285\n"
     ]
    }
   ],
   "source": [
    "a = np.random.rand(3,2)\n",
    "print(a)\n",
    "print(np.max(a))"
   ]
  },
  {
   "cell_type": "code",
   "execution_count": 114,
   "metadata": {
    "collapsed": false
   },
   "outputs": [
    {
     "data": {
      "text/plain": [
       "array([[ 0.,  0.,  0.],\n",
       "       [ 0.,  0.,  0.]])"
      ]
     },
     "execution_count": 114,
     "metadata": {},
     "output_type": "execute_result"
    }
   ],
   "source": [
    "np.zeros([2, 3])"
   ]
  },
  {
   "cell_type": "code",
   "execution_count": 7,
   "metadata": {
    "collapsed": false
   },
   "outputs": [],
   "source": [
    "from sympy import Matrix, Symbol\n",
    "x11, x12, x21, x22, x31, x32 = Symbol('x11'), Symbol('x12'), Symbol('x21'), Symbol('x22'), Symbol('x31'), Symbol('x32')\n",
    "y11, y12, y21, y22 = Symbol('y11'), Symbol('y12'), Symbol('y21'), Symbol('y22')"
   ]
  },
  {
   "cell_type": "code",
   "execution_count": 8,
   "metadata": {
    "collapsed": false
   },
   "outputs": [],
   "source": [
    "x, y = np.array([[x11, x12], [x21, x22], [x31, x32]]), np.array([[y11, y12], [y21, y22]])\n",
    "x, y = y, x\n",
    "\n",
    "x2 = np.sum(x**2, axis=1, keepdims=True)\n",
    "y2 = np.sum(y**2, axis=1)\n",
    "xy = np.dot(x, y.T)\n",
    "dist = x2 - 2*xy + y2"
   ]
  },
  {
   "cell_type": "code",
   "execution_count": 9,
   "metadata": {
    "collapsed": false
   },
   "outputs": [
    {
     "data": {
      "text/plain": [
       "array([[x11**2 - 2*x11*y11 + x12**2 - 2*x12*y12 + y11**2 + y12**2,\n",
       "        x21**2 - 2*x21*y11 + x22**2 - 2*x22*y12 + y11**2 + y12**2,\n",
       "        x31**2 - 2*x31*y11 + x32**2 - 2*x32*y12 + y11**2 + y12**2],\n",
       "       [x11**2 - 2*x11*y21 + x12**2 - 2*x12*y22 + y21**2 + y22**2,\n",
       "        x21**2 - 2*x21*y21 + x22**2 - 2*x22*y22 + y21**2 + y22**2,\n",
       "        x31**2 - 2*x31*y21 + x32**2 - 2*x32*y22 + y21**2 + y22**2]], dtype=object)"
      ]
     },
     "execution_count": 9,
     "metadata": {},
     "output_type": "execute_result"
    }
   ],
   "source": [
    "dist"
   ]
  },
  {
   "cell_type": "code",
   "execution_count": 10,
   "metadata": {
    "collapsed": false
   },
   "outputs": [
    {
     "name": "stdout",
     "output_type": "stream",
     "text": [
      "[1, 2, 3, 4, 5] [1, 2, 3, 4, 5]\n",
      "[1, 2, 3, 4, 5] [1, 3, 4, 5]\n"
     ]
    }
   ],
   "source": [
    "l = [1, 2, 3, 4, 5]\n",
    "l_copy = l.copy()\n",
    "\n",
    "print(l, l_copy)\n",
    "\n",
    "del l_copy[1]\n",
    "\n",
    "print(l, l_copy)"
   ]
  },
  {
   "cell_type": "code",
   "execution_count": 16,
   "metadata": {
    "collapsed": false
   },
   "outputs": [
    {
     "name": "stdout",
     "output_type": "stream",
     "text": [
      "[11 12]\n",
      "[21 22]\n"
     ]
    }
   ],
   "source": [
    "for row in np.array([[11, 12], [21, 22]]):\n",
    "    print(row.T)"
   ]
  },
  {
   "cell_type": "code",
   "execution_count": 30,
   "metadata": {
    "collapsed": false
   },
   "outputs": [
    {
     "data": {
      "text/plain": [
       "1190"
      ]
     },
     "execution_count": 30,
     "metadata": {},
     "output_type": "execute_result"
    }
   ],
   "source": [
    "np.sum(np.array([[11, 12], [21, 22]])*np.array([[11, 12], [21, 22]]))"
   ]
  },
  {
   "cell_type": "code",
   "execution_count": 24,
   "metadata": {
    "collapsed": false
   },
   "outputs": [
    {
     "data": {
      "text/plain": [
       "array([[1, 2, 3, 4, 5]])"
      ]
     },
     "execution_count": 24,
     "metadata": {},
     "output_type": "execute_result"
    }
   ],
   "source": [
    "np.array([1, 2, 3, 4, 5])[np.newaxis]"
   ]
  },
  {
   "cell_type": "code",
   "execution_count": 27,
   "metadata": {
    "collapsed": false
   },
   "outputs": [
    {
     "data": {
      "text/plain": [
       "3"
      ]
     },
     "execution_count": 27,
     "metadata": {},
     "output_type": "execute_result"
    }
   ],
   "source": [
    "True+True+True"
   ]
  },
  {
   "cell_type": "code",
   "execution_count": 5,
   "metadata": {
    "collapsed": false
   },
   "outputs": [
    {
     "data": {
      "text/plain": [
       "array([[ 0.,  0.,  0.,  0.,  0.]])"
      ]
     },
     "execution_count": 5,
     "metadata": {},
     "output_type": "execute_result"
    }
   ],
   "source": [
    "np.zeros((1,5))"
   ]
  },
  {
   "cell_type": "code",
   "execution_count": 17,
   "metadata": {
    "collapsed": false
   },
   "outputs": [
    {
     "name": "stdout",
     "output_type": "stream",
     "text": [
      "(2, 2, 2, 3) (2, 12) (12, 3)\n"
     ]
    }
   ],
   "source": [
    "x = [[[[1, 2, 3], [11, 22, 33]], [[111, 222, 333], [1111, 2222, 3333]]],\n",
    "     [[[9, 8, 7], [9, 8, 7]], [[9, 8, 7], [9, 8, 7]]]]\n",
    "x = np.array(x)\n",
    "\n",
    "x_reshaped = x.reshape(x.shape[0], np.prod(x.shape[1:]))\n",
    "w = np.array([range(12), range(12, 24), range(24, 36)]).T\n",
    "\n",
    "print(x.shape, x_reshaped.shape, w.shape)"
   ]
  },
  {
   "cell_type": "code",
   "execution_count": 10,
   "metadata": {
    "collapsed": false
   },
   "outputs": [
    {
     "ename": "NameError",
     "evalue": "name 'x_reshaped' is not defined",
     "output_type": "error",
     "traceback": [
      "\u001b[0;31m---------------------------------------------------------------------------\u001b[0m",
      "\u001b[0;31mNameError\u001b[0m                                 Traceback (most recent call last)",
      "\u001b[0;32m<ipython-input-10-60b1c8ea6ae6>\u001b[0m in \u001b[0;36m<module>\u001b[0;34m()\u001b[0m\n\u001b[0;32m----> 1\u001b[0;31m \u001b[0mnp\u001b[0m\u001b[0;34m.\u001b[0m\u001b[0mdot\u001b[0m\u001b[0;34m(\u001b[0m\u001b[0mx_reshaped\u001b[0m\u001b[0;34m,\u001b[0m \u001b[0mw\u001b[0m\u001b[0;34m)\u001b[0m\u001b[0;34m\u001b[0m\u001b[0m\n\u001b[0m",
      "\u001b[0;31mNameError\u001b[0m: name 'x_reshaped' is not defined"
     ]
    }
   ],
   "source": [
    "np.dot(x_reshaped, w)"
   ]
  },
  {
   "cell_type": "code",
   "execution_count": 22,
   "metadata": {
    "collapsed": false
   },
   "outputs": [
    {
     "data": {
      "text/plain": [
       "array([[ 74061, 162908, 251755],\n",
       "       [   521,   1672,   2823]])"
      ]
     },
     "execution_count": 22,
     "metadata": {},
     "output_type": "execute_result"
    }
   ],
   "source": [
    "np.dot(x_reshaped, w) + np. array([1, 0, -1])"
   ]
  },
  {
   "cell_type": "code",
   "execution_count": 23,
   "metadata": {
    "collapsed": false
   },
   "outputs": [
    {
     "data": {
      "text/plain": [
       "array([[[ 0.],\n",
       "        [ 5.],\n",
       "        [ 5.]],\n",
       "\n",
       "       [[ 5.],\n",
       "        [ 0.],\n",
       "        [ 0.]]])"
      ]
     },
     "execution_count": 23,
     "metadata": {},
     "output_type": "execute_result"
    }
   ],
   "source": [
    "p = 0.5\n",
    "x = 5*np.ones([2, 3, 1])\n",
    "mask = np.random.choice([0, 1], size=x.shape, p=[p, 1-p])\n",
    "\n",
    "(x*mask)"
   ]
  },
  {
   "cell_type": "code",
   "execution_count": 1,
   "metadata": {
    "collapsed": false
   },
   "outputs": [
    {
     "data": {
      "text/plain": [
       "1397"
      ]
     },
     "execution_count": 1,
     "metadata": {},
     "output_type": "execute_result"
    }
   ],
   "source": [
    "556+841"
   ]
  },
  {
   "cell_type": "code",
   "execution_count": null,
   "metadata": {
    "collapsed": true
   },
   "outputs": [],
   "source": []
  }
 ],
 "metadata": {
  "kernelspec": {
   "display_name": "Python [conda env:cs231]",
   "language": "python",
   "name": "conda-env-cs231-py"
  },
  "language_info": {
   "codemirror_mode": {
    "name": "ipython",
    "version": 3
   },
   "file_extension": ".py",
   "mimetype": "text/x-python",
   "name": "python",
   "nbconvert_exporter": "python",
   "pygments_lexer": "ipython3",
   "version": "3.5.4"
  }
 },
 "nbformat": 4,
 "nbformat_minor": 2
}
